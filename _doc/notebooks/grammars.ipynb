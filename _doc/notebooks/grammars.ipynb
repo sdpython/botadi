{
  "cells": [
    {
      "cell_type": "markdown",
      "metadata": {},
      "source": [
        "# Grammar\n",
        "\n",
        "The chatbot relies on a grammar to interpret an order. By default, it interprets French."
      ]
    },
    {
      "cell_type": "code",
      "execution_count": 1,
      "metadata": {},
      "outputs": [
        {
          "data": {
            "text/plain": [
              "[('MOKADI', ':MOKADI:'),\n",
              " ('lire', ':verb_voir:'),\n",
              " ('mail', ':mails:'),\n",
              " ('<EOF>', ':P:')]"
            ]
          },
          "execution_count": 2,
          "metadata": {},
          "output_type": "execute_result"
        }
      ],
      "source": [
        "from botadi.mokadi import interpret\n",
        "cmd = \"MOKADI lire mail\"\n",
        "interpret(cmd)"
      ]
    },
    {
      "cell_type": "code",
      "execution_count": 2,
      "metadata": {},
      "outputs": [
        {
          "data": {
            "text/plain": [
              "[('MOKADI', ':MOKADI:'),\n",
              " ('lire', ':verb_voir:'),\n",
              " ('pr\u00e9sentation', ':presentation:'),\n",
              " ('1', ':int:'),\n",
              " ('transparent', ':slide:'),\n",
              " ('num\u00e9ro', ':numero:'),\n",
              " ('2', ':int:'),\n",
              " ('<EOF>', ':P:')]"
            ]
          },
          "execution_count": 3,
          "metadata": {},
          "output_type": "execute_result"
        }
      ],
      "source": [
        "cmd = \"MOKADI lire pr\u00e9sentation 1 transparent num\u00e9ro 2\"\n",
        "interpret(cmd)"
      ]
    },
    {
      "cell_type": "code",
      "execution_count": 3,
      "metadata": {},
      "outputs": [],
      "source": []
    }
  ],
  "metadata": {
    "kernelspec": {
      "display_name": "Python 3",
      "language": "python",
      "name": "python3"
    },
    "language_info": {
      "codemirror_mode": {
        "name": "ipython",
        "version": 3
      },
      "file_extension": ".py",
      "mimetype": "text/x-python",
      "name": "python",
      "nbconvert_exporter": "python",
      "pygments_lexer": "ipython3",
      "version": "3.7.2"
    }
  },
  "nbformat": 4,
  "nbformat_minor": 2
}